{
 "cells": [
  {
   "cell_type": "code",
   "execution_count": 2,
   "id": "b5edc8f8",
   "metadata": {},
   "outputs": [
    {
     "name": "stdout",
     "output_type": "stream",
     "text": [
      "Requirement already satisfied: torchvision in c:\\users\\admins\\anaconda3\\lib\\site-packages (0.11.3)\n",
      "Requirement already satisfied: torch==1.10.2 in c:\\users\\admins\\anaconda3\\lib\\site-packages (from torchvision) (1.10.2)\n",
      "Requirement already satisfied: numpy in c:\\users\\admins\\anaconda3\\lib\\site-packages (from torchvision) (1.20.1)\n",
      "Requirement already satisfied: pillow!=8.3.0,>=5.3.0 in c:\\users\\admins\\anaconda3\\lib\\site-packages (from torchvision) (8.2.0)\n",
      "Requirement already satisfied: typing-extensions in c:\\users\\admins\\anaconda3\\lib\\site-packages (from torch==1.10.2->torchvision) (3.7.4.3)\n",
      "Note: you may need to restart the kernel to use updated packages.\n"
     ]
    }
   ],
   "source": [
    "pip install torchvision"
   ]
  },
  {
   "cell_type": "code",
   "execution_count": 3,
   "id": "3413b9dd",
   "metadata": {},
   "outputs": [],
   "source": [
    "import pandas as pd \n",
    "import matplotlib.pyplot as plt \n",
    "import torch\n",
    "import torch.nn.functional as F\n",
    "import torchvision\n",
    "import torchvision.transforms as transforms\n",
    "\n",
    "from torch.utils.data import Dataset, DataLoader\n",
    "from sklearn.model_selection import train_test_split\n",
    "\n",
    "%matplotlib inline"
   ]
  },
  {
   "cell_type": "code",
   "execution_count": 4,
   "id": "fab381b5",
   "metadata": {},
   "outputs": [],
   "source": [
    "import os\n",
    "os.getcwd()\n",
    "# place the files in your IDE working dicrectory .\n",
    "labels = pd.read_csv('aerialcactus/train.csv')\n",
    "submission = pd.read_csv('aerialcactus/sample_submission.csv')\n",
    "\n",
    "train_path = 'aerialcactus/train/train/'\n",
    "test_path = 'aerialcactus/test/test/'"
   ]
  },
  {
   "cell_type": "code",
   "execution_count": 5,
   "id": "517e063e",
   "metadata": {},
   "outputs": [
    {
     "data": {
      "text/html": [
       "<div>\n",
       "<style scoped>\n",
       "    .dataframe tbody tr th:only-of-type {\n",
       "        vertical-align: middle;\n",
       "    }\n",
       "\n",
       "    .dataframe tbody tr th {\n",
       "        vertical-align: top;\n",
       "    }\n",
       "\n",
       "    .dataframe thead th {\n",
       "        text-align: right;\n",
       "    }\n",
       "</style>\n",
       "<table border=\"1\" class=\"dataframe\">\n",
       "  <thead>\n",
       "    <tr style=\"text-align: right;\">\n",
       "      <th></th>\n",
       "      <th>id</th>\n",
       "      <th>has_cactus</th>\n",
       "    </tr>\n",
       "  </thead>\n",
       "  <tbody>\n",
       "    <tr>\n",
       "      <th>0</th>\n",
       "      <td>0004be2cfeaba1c0361d39e2b000257b.jpg</td>\n",
       "      <td>1</td>\n",
       "    </tr>\n",
       "    <tr>\n",
       "      <th>1</th>\n",
       "      <td>000c8a36845c0208e833c79c1bffedd1.jpg</td>\n",
       "      <td>1</td>\n",
       "    </tr>\n",
       "    <tr>\n",
       "      <th>2</th>\n",
       "      <td>000d1e9a533f62e55c289303b072733d.jpg</td>\n",
       "      <td>1</td>\n",
       "    </tr>\n",
       "    <tr>\n",
       "      <th>3</th>\n",
       "      <td>0011485b40695e9138e92d0b3fb55128.jpg</td>\n",
       "      <td>1</td>\n",
       "    </tr>\n",
       "    <tr>\n",
       "      <th>4</th>\n",
       "      <td>0014d7a11e90b62848904c1418fc8cf2.jpg</td>\n",
       "      <td>1</td>\n",
       "    </tr>\n",
       "  </tbody>\n",
       "</table>\n",
       "</div>"
      ],
      "text/plain": [
       "                                     id  has_cactus\n",
       "0  0004be2cfeaba1c0361d39e2b000257b.jpg           1\n",
       "1  000c8a36845c0208e833c79c1bffedd1.jpg           1\n",
       "2  000d1e9a533f62e55c289303b072733d.jpg           1\n",
       "3  0011485b40695e9138e92d0b3fb55128.jpg           1\n",
       "4  0014d7a11e90b62848904c1418fc8cf2.jpg           1"
      ]
     },
     "execution_count": 5,
     "metadata": {},
     "output_type": "execute_result"
    }
   ],
   "source": [
    "labels.head()"
   ]
  },
  {
   "cell_type": "code",
   "execution_count": 6,
   "id": "7c156037",
   "metadata": {},
   "outputs": [
    {
     "data": {
      "text/html": [
       "<div>\n",
       "<style scoped>\n",
       "    .dataframe tbody tr th:only-of-type {\n",
       "        vertical-align: middle;\n",
       "    }\n",
       "\n",
       "    .dataframe tbody tr th {\n",
       "        vertical-align: top;\n",
       "    }\n",
       "\n",
       "    .dataframe thead th {\n",
       "        text-align: right;\n",
       "    }\n",
       "</style>\n",
       "<table border=\"1\" class=\"dataframe\">\n",
       "  <thead>\n",
       "    <tr style=\"text-align: right;\">\n",
       "      <th></th>\n",
       "      <th>id</th>\n",
       "      <th>has_cactus</th>\n",
       "    </tr>\n",
       "  </thead>\n",
       "  <tbody>\n",
       "    <tr>\n",
       "      <th>17495</th>\n",
       "      <td>ffede47a74e47a5930f81c0b6896479e.jpg</td>\n",
       "      <td>0</td>\n",
       "    </tr>\n",
       "    <tr>\n",
       "      <th>17496</th>\n",
       "      <td>ffef6382a50d23251d4bc05519c91037.jpg</td>\n",
       "      <td>1</td>\n",
       "    </tr>\n",
       "    <tr>\n",
       "      <th>17497</th>\n",
       "      <td>fff059ecc91b30be5745e8b81111dc7b.jpg</td>\n",
       "      <td>1</td>\n",
       "    </tr>\n",
       "    <tr>\n",
       "      <th>17498</th>\n",
       "      <td>fff43acb3b7a23edcc4ae937be2b7522.jpg</td>\n",
       "      <td>0</td>\n",
       "    </tr>\n",
       "    <tr>\n",
       "      <th>17499</th>\n",
       "      <td>fffd9e9b990eba07c836745d8aef1a3a.jpg</td>\n",
       "      <td>1</td>\n",
       "    </tr>\n",
       "  </tbody>\n",
       "</table>\n",
       "</div>"
      ],
      "text/plain": [
       "                                         id  has_cactus\n",
       "17495  ffede47a74e47a5930f81c0b6896479e.jpg           0\n",
       "17496  ffef6382a50d23251d4bc05519c91037.jpg           1\n",
       "17497  fff059ecc91b30be5745e8b81111dc7b.jpg           1\n",
       "17498  fff43acb3b7a23edcc4ae937be2b7522.jpg           0\n",
       "17499  fffd9e9b990eba07c836745d8aef1a3a.jpg           1"
      ]
     },
     "execution_count": 6,
     "metadata": {},
     "output_type": "execute_result"
    }
   ],
   "source": [
    "labels.tail()"
   ]
  },
  {
   "cell_type": "code",
   "execution_count": 7,
   "id": "9e71ae5d",
   "metadata": {},
   "outputs": [
    {
     "data": {
      "text/plain": [
       "1    13136\n",
       "0     4364\n",
       "Name: has_cactus, dtype: int64"
      ]
     },
     "execution_count": 7,
     "metadata": {},
     "output_type": "execute_result"
    }
   ],
   "source": [
    "labels['has_cactus'].value_counts()"
   ]
  },
  {
   "cell_type": "code",
   "execution_count": 8,
   "id": "61153a68",
   "metadata": {},
   "outputs": [
    {
     "data": {
      "image/png": "[encoded data removed]",
      "text/plain": [
       "<Figure size 576x576 with 1 Axes>"
      ]
     },
     "metadata": {},
     "output_type": "display_data"
    }
   ],
   "source": [
    "label = 'Has Cactus', 'Hasn\\'t Cactus'\n",
    "plt.figure(figsize = (8,8))\n",
    "plt.pie(labels.groupby('has_cactus').size(), labels = label, autopct='%1.1f%%', shadow=True, startangle=90)\n",
    "plt.show()"
   ]
  },
  {
   "cell_type": "code",
   "execution_count": 9,
   "id": "b8b19f9a",
   "metadata": {},
   "outputs": [
    {
     "data": {
      "image/png": "[encoded data removed]",
      "text/plain": [
       "<Figure size 1080x216 with 5 Axes>"
      ]
     },
     "metadata": {
      "needs_background": "light"
     },
     "output_type": "display_data"
    }
   ],
   "source": [
    "import matplotlib.image as img\n",
    "#nrows\n",
    "#ncount = кол-во изображений\n",
    "fig,ax = plt.subplots(1,5,figsize = (15,3))\n",
    "\n",
    "for i,idx in enumerate(labels[labels['has_cactus'] == 1]['id'][-5:]):\n",
    "    path = os.path.join(train_path,idx)\n",
    "    ax[i].imshow(img.imread(path))"
   ]
  },
  {
   "cell_type": "code",
   "execution_count": 10,
   "id": "3a0ff340",
   "metadata": {},
   "outputs": [
    {
     "data": {
      "image/png": "[encoded data removed]",
      "text/plain": [
       "<Figure size 1080x216 with 5 Axes>"
      ]
     },
     "metadata": {
      "needs_background": "light"
     },
     "output_type": "display_data"
    }
   ],
   "source": [
    "fig,ax = plt.subplots(1,5,figsize = (15,3))\n",
    "for i,idx in enumerate(labels[labels['has_cactus'] == 0]['id'][:5]):\n",
    "    path = os.path.join(train_path,idx)\n",
    "    ax[i].imshow(img.imread(path))"
   ]
  },
  {
   "cell_type": "code",
   "execution_count": 11,
   "id": "a57dd73d",
   "metadata": {},
   "outputs": [],
   "source": [
    "import numpy as np\n",
    "import matplotlib.pyplot as plt\n",
    "\n",
    "def imshow(image, ax=None, title=None, normalize=True):\n",
    "    if ax is None:\n",
    "        fig, ax = plt.subplots()\n",
    "    image = image.numpy().transpose((1, 2, 0))\n",
    "\n",
    "    if normalize:\n",
    "        mean = np.array([0.485, 0.456, 0.406])\n",
    "        std = np.array([0.229, 0.224, 0.225])\n",
    "        image = std * image + mean\n",
    "        image = np.clip(image, 0, 1)\n",
    "\n",
    "    ax.imshow(image)\n",
    "    ax.spines['top'].set_visible(False)\n",
    "    ax.spines['right'].set_visible(False)\n",
    "    ax.spines['left'].set_visible(False)\n",
    "    ax.spines['bottom'].set_visible(False)\n",
    "    ax.tick_params(axis='both', length=0)\n",
    "    ax.set_xticklabels('')\n",
    "    ax.set_yticklabels('')\n",
    "\n",
    "    return ax"
   ]
  },
  {
   "cell_type": "code",
   "execution_count": 12,
   "id": "58bdfdea",
   "metadata": {},
   "outputs": [],
   "source": [
    "class CactiDataset(Dataset):\n",
    "    def __init__(self, data, path , transform = None):\n",
    "        super().__init__()\n",
    "        self.data = data.values\n",
    "        self.path = path\n",
    "        self.transform = transform\n",
    "        \n",
    "    def __len__(self):\n",
    "        return len(self.data)\n",
    "    \n",
    "    def __getitem__(self,index):\n",
    "        img_name,label = self.data[index]\n",
    "        img_path = os.path.join(self.path, img_name)\n",
    "        image = img.imread(img_path)\n",
    "        if self.transform is not None:\n",
    "            image = self.transform(image)\n",
    "        return image, label"
   ]
  },
  {
   "cell_type": "code",
   "execution_count": 13,
   "id": "313fbd36",
   "metadata": {},
   "outputs": [],
   "source": [
    "train, valid = train_test_split(labels, stratify=labels.has_cactus, test_size=0.2)"
   ]
  },
  {
   "cell_type": "code",
   "execution_count": 14,
   "id": "746d706a",
   "metadata": {},
   "outputs": [],
   "source": [
    "train_transform = transforms.Compose([transforms.ToPILImage(),\n",
    "                                      transforms.ToTensor()])\n",
    "\n",
    "test_transform = transforms.Compose([transforms.ToPILImage(),\n",
    "                                      transforms.ToTensor()])\n",
    "\n",
    "valid_transform = transforms.Compose([transforms.ToPILImage(),\n",
    "                                      transforms.ToTensor()])"
   ]
  },
  {
   "cell_type": "code",
   "execution_count": 15,
   "id": "ccab4d36",
   "metadata": {},
   "outputs": [],
   "source": [
    "train_data = CactiDataset(train, train_path, train_transform )\n",
    "valid_data = CactiDataset(valid, train_path, valid_transform )\n",
    "test_data = CactiDataset(submission, test_path, test_transform )"
   ]
  },
  {
   "cell_type": "code",
   "execution_count": 16,
   "id": "bc938564",
   "metadata": {},
   "outputs": [],
   "source": [
    "batch_size = 16\n",
    "train_loader = DataLoader(dataset = train_data, batch_size = batch_size, shuffle=False, num_workers=0)\n",
    "valid_loader = DataLoader(dataset = valid_data, batch_size = batch_size, shuffle=False, num_workers=0)\n",
    "test_loader = DataLoader(dataset = test_data, batch_size = batch_size, shuffle=False, num_workers=0)"
   ]
  },
  {
   "cell_type": "code",
   "execution_count": 17,
   "id": "6d75e9b1",
   "metadata": {},
   "outputs": [
    {
     "name": "stdout",
     "output_type": "stream",
     "text": [
      "training images\n",
      "torch.Size([3, 32, 32])\n"
     ]
    },
    {
     "data": {
      "image/png": "[encoded data removed]",
      "text/plain": [
       "<Figure size 864x864 with 5 Axes>"
      ]
     },
     "metadata": {
      "needs_background": "light"
     },
     "output_type": "display_data"
    }
   ],
   "source": [
    "trainimages, trainlabels = next(iter(train_loader))\n",
    "\n",
    "fig, axes = plt.subplots(figsize=(12, 12), ncols=5)\n",
    "print('training images')\n",
    "for i in range(5):\n",
    "    axe1 = axes[i] \n",
    "    imshow(trainimages[i], ax=axe1)\n",
    "\n",
    "print(trainimages[0].size())\n"
   ]
  },
  {
   "cell_type": "code",
   "execution_count": 18,
   "id": "f5381fe6",
   "metadata": {},
   "outputs": [
    {
     "data": {
      "text/plain": [
       "tensor([[[[0.2078, 0.2157, 0.2157,  ..., 0.4353, 0.4118, 0.2471],\n",
       "          [0.1961, 0.2157, 0.2314,  ..., 0.3451, 0.4196, 0.3608],\n",
       "          [0.2039, 0.2196, 0.2196,  ..., 0.2980, 0.3725, 0.3686],\n",
       "          ...,\n",
       "          [0.3020, 0.2235, 0.2118,  ..., 0.2784, 0.2902, 0.3020],\n",
       "          [0.2314, 0.2353, 0.2784,  ..., 0.2784, 0.2863, 0.2980],\n",
       "          [0.2706, 0.3255, 0.3647,  ..., 0.2824, 0.2941, 0.3020]],\n",
       "\n",
       "         [[0.2196, 0.2275, 0.2275,  ..., 0.4471, 0.4235, 0.2588],\n",
       "          [0.2078, 0.2275, 0.2431,  ..., 0.3569, 0.4314, 0.3725],\n",
       "          [0.2157, 0.2314, 0.2314,  ..., 0.3098, 0.3843, 0.3804],\n",
       "          ...,\n",
       "          [0.2980, 0.2196, 0.2078,  ..., 0.2902, 0.3020, 0.3137],\n",
       "          [0.2275, 0.2314, 0.2745,  ..., 0.2902, 0.2980, 0.3098],\n",
       "          [0.2588, 0.3137, 0.3529,  ..., 0.2941, 0.3059, 0.3137]],\n",
       "\n",
       "         [[0.1451, 0.1529, 0.1529,  ..., 0.3804, 0.3569, 0.1922],\n",
       "          [0.1333, 0.1529, 0.1686,  ..., 0.2902, 0.3647, 0.3059],\n",
       "          [0.1412, 0.1569, 0.1569,  ..., 0.2431, 0.3176, 0.3137],\n",
       "          ...,\n",
       "          [0.2196, 0.1412, 0.1294,  ..., 0.2078, 0.2196, 0.2314],\n",
       "          [0.1490, 0.1529, 0.1961,  ..., 0.2078, 0.2157, 0.2275],\n",
       "          [0.1843, 0.2392, 0.2784,  ..., 0.2118, 0.2235, 0.2314]]],\n",
       "\n",
       "\n",
       "        [[[0.5922, 0.7294, 0.9529,  ..., 0.6706, 0.9451, 0.7882],\n",
       "          [0.8353, 0.8118, 0.9098,  ..., 0.7804, 0.7961, 0.7059],\n",
       "          [0.3765, 0.2471, 0.7569,  ..., 0.7373, 0.7412, 0.7137],\n",
       "          ...,\n",
       "          [0.6039, 0.6157, 0.6431,  ..., 0.7529, 0.7490, 0.7020],\n",
       "          [0.6902, 0.6863, 0.6784,  ..., 0.7098, 0.7255, 0.7725],\n",
       "          [0.6863, 0.7725, 0.7137,  ..., 0.7373, 0.7569, 0.7294]],\n",
       "\n",
       "         [[0.5020, 0.6392, 0.8706,  ..., 0.5412, 0.8157, 0.6588],\n",
       "          [0.7529, 0.7294, 0.8275,  ..., 0.6510, 0.6667, 0.5765],\n",
       "          [0.3020, 0.1725, 0.6824,  ..., 0.6078, 0.6118, 0.5843],\n",
       "          ...,\n",
       "          [0.5059, 0.5216, 0.5490,  ..., 0.6235, 0.6157, 0.5686],\n",
       "          [0.5843, 0.5804, 0.5725,  ..., 0.5804, 0.5922, 0.6392],\n",
       "          [0.5725, 0.6627, 0.6078,  ..., 0.6078, 0.6235, 0.5961]],\n",
       "\n",
       "         [[0.5804, 0.7176, 0.9451,  ..., 0.6157, 0.8902, 0.7255],\n",
       "          [0.8275, 0.8039, 0.9020,  ..., 0.7255, 0.7333, 0.6431],\n",
       "          [0.3765, 0.2471, 0.7569,  ..., 0.6824, 0.6784, 0.6510],\n",
       "          ...,\n",
       "          [0.5804, 0.5843, 0.6118,  ..., 0.6902, 0.6824, 0.6353],\n",
       "          [0.6510, 0.6471, 0.6392,  ..., 0.6471, 0.6588, 0.7059],\n",
       "          [0.6431, 0.7216, 0.6667,  ..., 0.6745, 0.6902, 0.6627]]],\n",
       "\n",
       "\n",
       "        [[[0.4745, 0.6157, 0.4392,  ..., 0.6078, 0.6314, 0.5059],\n",
       "          [0.6078, 0.7608, 0.5176,  ..., 0.4824, 0.7137, 0.5686],\n",
       "          [0.6784, 0.7333, 0.6824,  ..., 0.3608, 0.7137, 0.6392],\n",
       "          ...,\n",
       "          [0.3216, 0.3412, 0.3020,  ..., 0.6627, 0.7020, 0.6941],\n",
       "          [0.5255, 0.9176, 0.7765,  ..., 0.6235, 0.7020, 0.6667],\n",
       "          [0.6392, 0.9961, 0.9804,  ..., 0.5059, 0.7059, 0.6431]],\n",
       "\n",
       "         [[0.3843, 0.5255, 0.3490,  ..., 0.5137, 0.5373, 0.4118],\n",
       "          [0.5176, 0.6706, 0.4275,  ..., 0.3882, 0.6196, 0.4745],\n",
       "          [0.5765, 0.6314, 0.5804,  ..., 0.2667, 0.6196, 0.5451],\n",
       "          ...,\n",
       "          [0.2706, 0.2902, 0.2510,  ..., 0.5647, 0.6039, 0.5961],\n",
       "          [0.4745, 0.8667, 0.7255,  ..., 0.5333, 0.6039, 0.5686],\n",
       "          [0.5882, 0.9451, 0.9294,  ..., 0.4157, 0.6078, 0.5451]],\n",
       "\n",
       "         [[0.4157, 0.5647, 0.3882,  ..., 0.5647, 0.5882, 0.4627],\n",
       "          [0.5490, 0.7020, 0.4667,  ..., 0.4392, 0.6706, 0.5255],\n",
       "          [0.6118, 0.6667, 0.6235,  ..., 0.3176, 0.6706, 0.5961],\n",
       "          ...,\n",
       "          [0.3098, 0.3294, 0.2902,  ..., 0.6392, 0.6784, 0.6706],\n",
       "          [0.5137, 0.9059, 0.7647,  ..., 0.6039, 0.6784, 0.6431],\n",
       "          [0.6275, 0.9843, 0.9686,  ..., 0.4863, 0.6824, 0.6196]]],\n",
       "\n",
       "\n",
       "        ...,\n",
       "\n",
       "\n",
       "        [[[0.9059, 0.9529, 0.6510,  ..., 0.7373, 0.6549, 0.6392],\n",
       "          [0.8549, 0.9059, 0.6471,  ..., 0.7451, 0.6353, 0.6627],\n",
       "          [0.7373, 0.6078, 0.7490,  ..., 0.7765, 0.6196, 0.6588],\n",
       "          ...,\n",
       "          [0.6471, 0.6510, 0.6039,  ..., 0.6549, 0.5765, 0.6549],\n",
       "          [0.7098, 0.7137, 0.6353,  ..., 0.5922, 0.5529, 0.5686],\n",
       "          [0.6824, 0.6471, 0.7216,  ..., 0.6118, 0.7020, 0.6078]],\n",
       "\n",
       "         [[0.7804, 0.8275, 0.5255,  ..., 0.6039, 0.5137, 0.4980],\n",
       "          [0.7294, 0.7804, 0.5216,  ..., 0.6118, 0.5020, 0.5294],\n",
       "          [0.6118, 0.4824, 0.6235,  ..., 0.6510, 0.4863, 0.5255],\n",
       "          ...,\n",
       "          [0.5529, 0.5569, 0.4941,  ..., 0.5686, 0.4902, 0.5686],\n",
       "          [0.6157, 0.6196, 0.5373,  ..., 0.5059, 0.4667, 0.4824],\n",
       "          [0.5961, 0.5529, 0.6235,  ..., 0.5255, 0.6157, 0.5216]],\n",
       "\n",
       "         [[0.8745, 0.9216, 0.6196,  ..., 0.6980, 0.6157, 0.6000],\n",
       "          [0.8235, 0.8745, 0.6157,  ..., 0.7059, 0.6000, 0.6275],\n",
       "          [0.7059, 0.5765, 0.7176,  ..., 0.7412, 0.5843, 0.6235],\n",
       "          ...,\n",
       "          [0.6392, 0.6431, 0.5843,  ..., 0.6510, 0.5725, 0.6510],\n",
       "          [0.7020, 0.7059, 0.6235,  ..., 0.5882, 0.5490, 0.5647],\n",
       "          [0.6784, 0.6392, 0.7098,  ..., 0.6078, 0.6980, 0.6039]]],\n",
       "\n",
       "\n",
       "        [[[0.3569, 0.3608, 0.3725,  ..., 0.4667, 0.5216, 0.5333],\n",
       "          [0.3843, 0.3882, 0.4000,  ..., 0.5686, 0.6157, 0.5137],\n",
       "          [0.3961, 0.4000, 0.4000,  ..., 0.6000, 0.6902, 0.5373],\n",
       "          ...,\n",
       "          [0.4784, 0.4471, 0.3804,  ..., 0.4039, 0.4000, 0.3412],\n",
       "          [0.4863, 0.4353, 0.3765,  ..., 0.3843, 0.4275, 0.3686],\n",
       "          [0.4824, 0.4353, 0.3922,  ..., 0.4196, 0.4745, 0.4353]],\n",
       "\n",
       "         [[0.3098, 0.3137, 0.3255,  ..., 0.3725, 0.4275, 0.4392],\n",
       "          [0.3373, 0.3412, 0.3529,  ..., 0.4745, 0.5216, 0.4196],\n",
       "          [0.3490, 0.3529, 0.3529,  ..., 0.5176, 0.5961, 0.4431],\n",
       "          ...,\n",
       "          [0.4275, 0.3961, 0.3294,  ..., 0.3451, 0.3412, 0.2824],\n",
       "          [0.4353, 0.3843, 0.3255,  ..., 0.3255, 0.3686, 0.3098],\n",
       "          [0.4314, 0.3843, 0.3412,  ..., 0.3608, 0.4157, 0.3765]],\n",
       "\n",
       "         [[0.2627, 0.2667, 0.2784,  ..., 0.3569, 0.4196, 0.4314],\n",
       "          [0.2902, 0.2941, 0.3059,  ..., 0.4588, 0.5137, 0.4118],\n",
       "          [0.3020, 0.3059, 0.3059,  ..., 0.4980, 0.5882, 0.4353],\n",
       "          ...,\n",
       "          [0.3961, 0.3647, 0.2980,  ..., 0.3176, 0.3137, 0.2549],\n",
       "          [0.4039, 0.3529, 0.2941,  ..., 0.2980, 0.3412, 0.2824],\n",
       "          [0.4000, 0.3529, 0.3098,  ..., 0.3333, 0.3882, 0.3490]]],\n",
       "\n",
       "\n",
       "        [[[0.6118, 0.5490, 0.5569,  ..., 0.4588, 0.3098, 0.3647],\n",
       "          [0.5922, 0.6039, 0.5725,  ..., 0.4627, 0.3804, 0.5176],\n",
       "          [0.5843, 0.5647, 0.6078,  ..., 0.3961, 0.4824, 0.3804],\n",
       "          ...,\n",
       "          [0.4902, 0.5451, 0.4863,  ..., 0.6549, 0.4157, 0.7020],\n",
       "          [0.3176, 0.5176, 0.5294,  ..., 0.6784, 0.6000, 0.6431],\n",
       "          [0.4392, 0.4706, 0.4471,  ..., 0.7255, 0.6235, 0.6353]],\n",
       "\n",
       "         [[0.5020, 0.4392, 0.4471,  ..., 0.3961, 0.2471, 0.3020],\n",
       "          [0.4824, 0.4941, 0.4627,  ..., 0.4000, 0.3176, 0.4549],\n",
       "          [0.4745, 0.4549, 0.4941,  ..., 0.3255, 0.4118, 0.3098],\n",
       "          ...,\n",
       "          [0.4039, 0.4588, 0.4078,  ..., 0.5451, 0.3176, 0.6039],\n",
       "          [0.2314, 0.4314, 0.4510,  ..., 0.5686, 0.4902, 0.5333],\n",
       "          [0.3529, 0.3843, 0.3647,  ..., 0.6157, 0.5137, 0.5255]],\n",
       "\n",
       "         [[0.5922, 0.5294, 0.5333,  ..., 0.4392, 0.2902, 0.3451],\n",
       "          [0.5725, 0.5843, 0.5490,  ..., 0.4431, 0.3608, 0.4980],\n",
       "          [0.5647, 0.5451, 0.5804,  ..., 0.3725, 0.4588, 0.3569],\n",
       "          ...,\n",
       "          [0.4549, 0.5098, 0.4549,  ..., 0.6314, 0.4000, 0.6863],\n",
       "          [0.2824, 0.4824, 0.4980,  ..., 0.6549, 0.5765, 0.6196],\n",
       "          [0.4039, 0.4353, 0.4235,  ..., 0.7020, 0.6000, 0.6118]]]])"
      ]
     },
     "execution_count": 18,
     "metadata": {},
     "output_type": "execute_result"
    }
   ],
   "source": [
    "trainimages, trainlabels = next(iter(train_loader))\n",
    "trainimages\n",
    "# we see that images are already normalized (in interval from 0 to 1)"
   ]
  },
  {
   "cell_type": "code",
   "execution_count": 19,
   "id": "7db3984e",
   "metadata": {},
   "outputs": [],
   "source": [
    "# Hyper parameters\n",
    "\n",
    "num_epochs = 35\n",
    "num_classes = 2\n",
    "batch_size = 25\n",
    "learning_rate = 0.001"
   ]
  },
  {
   "cell_type": "code",
   "execution_count": 20,
   "id": "d9b0c8b3",
   "metadata": {},
   "outputs": [
    {
     "data": {
      "text/plain": [
       "device(type='cpu')"
      ]
     },
     "execution_count": 20,
     "metadata": {},
     "output_type": "execute_result"
    }
   ],
   "source": [
    "# CPU or GPU\n",
    "\n",
    "device = torch.device('cuda:0' if torch.cuda.is_available() else 'cpu')\n",
    "device"
   ]
  },
  {
   "cell_type": "code",
   "execution_count": 21,
   "id": "efb647ba",
   "metadata": {},
   "outputs": [],
   "source": [
    "epochs = 35\n",
    "batch_size = 25\n",
    "learning_rate = 0.001\n",
    "num_epochs = 10"
   ]
  },
  {
   "cell_type": "code",
   "execution_count": 22,
   "id": "e3ced910",
   "metadata": {},
   "outputs": [],
   "source": [
    "import torch\n",
    "import torch.nn as nn\n",
    "import torch.nn.functional as F\n",
    "\n",
    "class CNN(nn.Module): \n",
    "    def __init__(self):\n",
    "        super(CNN, self).__init__()\n",
    "        # 1 свёрточный слой: 3 входных канала, 10 выходных\n",
    "        self.conv1 = nn.Conv2d(in_channels=3, out_channels=10, kernel_size=3)\n",
    "        # 2 свёрточный слой: 10 входных, 20 выходных каналов\n",
    "        self.conv2 = nn.Conv2d(10, 20, kernel_size=3)\n",
    "        self.conv2_drop = nn.Dropout2d()\n",
    "        # 720 входных нейронов, 1024 выходных\n",
    "        self.fc1 = nn.Linear(720, 1024)\n",
    "        # 1024 входных, 2 выходных\n",
    "        self.fc2 = nn.Linear(1024, 2)\n",
    "\n",
    "    def forward(self, x):\n",
    "        x = F.relu(F.max_pool2d(self.conv1(x), 2))\n",
    "        x = F.relu(F.max_pool2d(self.conv2_drop(self.conv2(x)), 2))\n",
    "        x = x.view(x.shape[0],-1)\n",
    "        x = F.relu(self.fc1(x))\n",
    "        x = F.dropout(x, training=self.training)\n",
    "        x = self.fc2(x)\n",
    "        return x"
   ]
  },
  {
   "cell_type": "code",
   "execution_count": 23,
   "id": "ec2eaa51",
   "metadata": {},
   "outputs": [],
   "source": [
    "model = CNN()\n",
    "device = torch.device(\"cuda\" if torch.cuda.is_available() else \"cpu\")\n"
   ]
  },
  {
   "cell_type": "code",
   "execution_count": 24,
   "id": "45eb301b",
   "metadata": {},
   "outputs": [],
   "source": [
    "# Hyper parameters\n",
    "\n",
    "num_epochs = 10\n",
    "num_classes = 2\n",
    "batch_size = 25\n",
    "learning_rate = 0.001\n",
    "criterion = nn.CrossEntropyLoss()\n",
    "optimizer = torch.optim.Adam(model.parameters(),lr = learning_rate)"
   ]
  },
  {
   "cell_type": "code",
   "execution_count": 25,
   "id": "bd5f3214",
   "metadata": {},
   "outputs": [
    {
     "name": "stdout",
     "output_type": "stream",
     "text": [
      "Epoch: 1 \tTraining Loss: 0.249500 \tValidation Loss: 0.157607\n",
      "Epoch: 2 \tTraining Loss: 0.164521 \tValidation Loss: 0.145304\n",
      "Epoch: 3 \tTraining Loss: 0.141151 \tValidation Loss: 0.112151\n",
      "Epoch: 4 \tTraining Loss: 0.132540 \tValidation Loss: 0.108626\n",
      "Epoch: 5 \tTraining Loss: 0.119278 \tValidation Loss: 0.086007\n",
      "Epoch: 6 \tTraining Loss: 0.108369 \tValidation Loss: 0.100489\n",
      "Epoch: 7 \tTraining Loss: 0.099845 \tValidation Loss: 0.080646\n",
      "Epoch: 8 \tTraining Loss: 0.095530 \tValidation Loss: 0.080370\n",
      "Epoch: 9 \tTraining Loss: 0.094002 \tValidation Loss: 0.101188\n",
      "Epoch: 10 \tTraining Loss: 0.091625 \tValidation Loss: 0.126565\n",
      "Wall time: 2min 40s\n"
     ]
    }
   ],
   "source": [
    "%%time\n",
    "# keeping-track-of-losses \n",
    "train_losses = []\n",
    "valid_losses = []\n",
    "\n",
    "for epoch in range(1, num_epochs + 1):\n",
    "    # keep-track-of-training-and-validation-loss\n",
    "    train_loss = 0.0\n",
    "    valid_loss = 0.0\n",
    "    \n",
    "    # training-the-model\n",
    "    model.train()\n",
    "    for data, target in train_loader:\n",
    "        # move-tensors-to-GPU \n",
    "        data = data.to(device)\n",
    "        target = target.to(device)\n",
    "        \n",
    "        # clear-the-gradients-of-all-optimized-variables\n",
    "        optimizer.zero_grad()\n",
    "        # forward-pass: compute-predicted-outputs-by-passing-inputs-to-the-model\n",
    "        output = model(data)\n",
    "        # calculate-the-batch-loss\n",
    "        loss = criterion(output, target)\n",
    "        # backward-pass: compute-gradient-of-the-loss-wrt-model-parameters\n",
    "        loss.backward()\n",
    "        # perform-a-ingle-optimization-step (parameter-update)\n",
    "        optimizer.step()\n",
    "        # update-training-loss\n",
    "        train_loss += loss.item() * data.size(0)\n",
    "        \n",
    "    # validate-the-model\n",
    "    model.eval()\n",
    "    for data, target in valid_loader:\n",
    "        \n",
    "        data = data.to(device)\n",
    "        target = target.to(device)\n",
    "        \n",
    "        output = model(data)\n",
    "        \n",
    "        loss = criterion(output, target)\n",
    "        \n",
    "        # update-average-validation-loss \n",
    "        valid_loss += loss.item() * data.size(0)\n",
    "    \n",
    "    # calculate-average-losses\n",
    "    train_loss = train_loss/len(train_loader.sampler)\n",
    "    valid_loss = valid_loss/len(valid_loader.sampler)\n",
    "    train_losses.append(train_loss)\n",
    "    valid_losses.append(valid_loss)\n",
    "        \n",
    "    # print-training/validation-statistics \n",
    "    print('Epoch: {} \\tTraining Loss: {:.6f} \\tValidation Loss: {:.6f}'.format(\n",
    "        epoch, train_loss, valid_loss))"
   ]
  },
  {
   "cell_type": "code",
   "execution_count": 26,
   "id": "4e27b3ce",
   "metadata": {},
   "outputs": [
    {
     "name": "stdout",
     "output_type": "stream",
     "text": [
      "training images\n",
      "tensor([1, 1, 0, 1, 1])\n",
      "tensor([1, 1, 0, 1, 1])\n"
     ]
    },
    {
     "data": {
      "image/png": "[encoded data removed]",
      "text/plain": [
       "<Figure size 864x864 with 5 Axes>"
      ]
     },
     "metadata": {
      "needs_background": "light"
     },
     "output_type": "display_data"
    }
   ],
   "source": [
    "#Проверка модели\n",
    "validimages, validlabels = next(iter(valid_loader))\n",
    "\n",
    "fig, axes = plt.subplots(figsize=(12, 12), ncols=5)\n",
    "print('training images')\n",
    "for i in range(5):\n",
    "    axe1 = axes[i] \n",
    "    imshow(validimages[i], ax=axe1)\n",
    "\n",
    "outputs = model(validimages)\n",
    "_, predicted = torch.max(outputs.data, 1)\n",
    "print(validlabels[:5])\n",
    "print(predicted[:5])"
   ]
  },
  {
   "cell_type": "code",
   "execution_count": 27,
   "id": "1e1a86b7",
   "metadata": {},
   "outputs": [
    {
     "name": "stdout",
     "output_type": "stream",
     "text": [
      "Adam (\n",
      "Parameter Group 0\n",
      "    amsgrad: False\n",
      "    betas: (0.9, 0.999)\n",
      "    eps: 1e-08\n",
      "    lr: 0.001\n",
      "    weight_decay: 0\n",
      ")\n",
      "tensor(0.2962, grad_fn=<NllLossBackward0>)\n"
     ]
    }
   ],
   "source": [
    "print(optimizer)\n",
    "print(loss)"
   ]
  },
  {
   "cell_type": "code",
   "execution_count": 28,
   "id": "59282dd2",
   "metadata": {},
   "outputs": [
    {
     "name": "stdout",
     "output_type": "stream",
     "text": [
      "Test Accuracy of the model: 95.74285714285715 %\n"
     ]
    }
   ],
   "source": [
    "# test-the-model\n",
    "model.eval()  # it-disables-dropout\n",
    "with torch.no_grad():\n",
    "    correct = 0\n",
    "    total = 0\n",
    "    for images, labels in valid_loader:\n",
    "        images = images.to(device)\n",
    "        labels = labels.to(device)\n",
    "        outputs = model(images)\n",
    "        _, predicted = torch.max(outputs.data, 1)\n",
    "        total += labels.size(0)\n",
    "        correct += (predicted == labels).sum().item()\n",
    "          \n",
    "    print('Test Accuracy of the model: {} %'.format(100 * correct / total))\n",
    "\n",
    "# Save \n",
    "torch.save(model.state_dict(), 'model.ckpt')"
   ]
  },
  {
   "cell_type": "code",
   "execution_count": 29,
   "id": "27b11024",
   "metadata": {},
   "outputs": [
    {
     "data": {
      "text/plain": [
       "<matplotlib.legend.Legend at 0x23342250460>"
      ]
     },
     "execution_count": 29,
     "metadata": {},
     "output_type": "execute_result"
    },
    {
     "data": {
      "image/png": "[encoded data removed]",
      "text/plain": [
       "<Figure size 432x288 with 1 Axes>"
      ]
     },
     "metadata": {
      "image/png": {
       "height": 261,
       "width": 398
      },
      "needs_background": "light"
     },
     "output_type": "display_data"
    }
   ],
   "source": [
    "%matplotlib inline\n",
    "%config InlineBackend.figure_format = 'retina'\n",
    "\n",
    "plt.plot(train_losses, label='Training loss')\n",
    "plt.plot(valid_losses, label='Validation loss')\n",
    "plt.xlabel(\"Epochs\")\n",
    "plt.ylabel(\"Loss\")\n",
    "plt.legend(frameon=False)"
   ]
  },
  {
   "cell_type": "code",
   "execution_count": null,
   "id": "068e0eaa",
   "metadata": {},
   "outputs": [],
   "source": []
  }
 ],
 "metadata": {
  "kernelspec": {
   "display_name": "Python 3",
   "language": "python",
   "name": "python3"
  },
  "language_info": {
   "codemirror_mode": {
    "name": "ipython",
    "version": 3
   },
   "file_extension": ".py",
   "mimetype": "text/x-python",
   "name": "python",
   "nbconvert_exporter": "python",
   "pygments_lexer": "ipython3",
   "version": "3.8.8"
  }
 },
 "nbformat": 4,
 "nbformat_minor": 5
}
